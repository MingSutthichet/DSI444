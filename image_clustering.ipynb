{
 "cells": [
  {
   "cell_type": "code",
   "execution_count": 14,
   "id": "1d713c9b-aaa5-4434-9922-853943adb02b",
   "metadata": {
    "scrolled": true
   },
   "outputs": [
    {
     "name": "stdout",
     "output_type": "stream",
     "text": [
      "Requirement already satisfied: umap-learn in c:\\users\\asus\\anaconda3\\lib\\site-packages (0.5.4)Note: you may need to restart the kernel to use updated packages.\n",
      "\n",
      "Requirement already satisfied: keras in c:\\users\\asus\\anaconda3\\lib\\site-packages (2.13.1)\n",
      "Requirement already satisfied: bokeh in c:\\users\\asus\\anaconda3\\lib\\site-packages (3.2.1)\n",
      "Requirement already satisfied: numpy>=1.17 in c:\\users\\asus\\anaconda3\\lib\\site-packages (from umap-learn) (1.24.3)\n",
      "Requirement already satisfied: scipy>=1.3.1 in c:\\users\\asus\\anaconda3\\lib\\site-packages (from umap-learn) (1.11.1)\n",
      "Requirement already satisfied: scikit-learn>=0.22 in c:\\users\\asus\\anaconda3\\lib\\site-packages (from umap-learn) (1.3.0)\n",
      "Requirement already satisfied: numba>=0.51.2 in c:\\users\\asus\\anaconda3\\lib\\site-packages (from umap-learn) (0.57.1)\n",
      "Requirement already satisfied: pynndescent>=0.5 in c:\\users\\asus\\anaconda3\\lib\\site-packages (from umap-learn) (0.5.10)\n",
      "Requirement already satisfied: tqdm in c:\\users\\asus\\anaconda3\\lib\\site-packages (from umap-learn) (4.65.0)\n",
      "Requirement already satisfied: Jinja2>=2.9 in c:\\users\\asus\\anaconda3\\lib\\site-packages (from bokeh) (3.1.2)\n",
      "Requirement already satisfied: contourpy>=1 in c:\\users\\asus\\anaconda3\\lib\\site-packages (from bokeh) (1.0.5)\n",
      "Requirement already satisfied: packaging>=16.8 in c:\\users\\asus\\anaconda3\\lib\\site-packages (from bokeh) (23.1)\n",
      "Requirement already satisfied: pandas>=1.2 in c:\\users\\asus\\anaconda3\\lib\\site-packages (from bokeh) (2.0.3)\n",
      "Requirement already satisfied: pillow>=7.1.0 in c:\\users\\asus\\anaconda3\\lib\\site-packages (from bokeh) (9.4.0)\n",
      "Requirement already satisfied: PyYAML>=3.10 in c:\\users\\asus\\anaconda3\\lib\\site-packages (from bokeh) (6.0)\n",
      "Requirement already satisfied: tornado>=5.1 in c:\\users\\asus\\anaconda3\\lib\\site-packages (from bokeh) (6.3.2)\n",
      "Requirement already satisfied: xyzservices>=2021.09.1 in c:\\users\\asus\\anaconda3\\lib\\site-packages (from bokeh) (2022.9.0)\n",
      "Requirement already satisfied: MarkupSafe>=2.0 in c:\\users\\asus\\anaconda3\\lib\\site-packages (from Jinja2>=2.9->bokeh) (2.1.1)\n",
      "Requirement already satisfied: llvmlite<0.41,>=0.40.0dev0 in c:\\users\\asus\\anaconda3\\lib\\site-packages (from numba>=0.51.2->umap-learn) (0.40.0)\n",
      "Requirement already satisfied: python-dateutil>=2.8.2 in c:\\users\\asus\\anaconda3\\lib\\site-packages (from pandas>=1.2->bokeh) (2.8.2)\n",
      "Requirement already satisfied: pytz>=2020.1 in c:\\users\\asus\\anaconda3\\lib\\site-packages (from pandas>=1.2->bokeh) (2022.7)\n",
      "Requirement already satisfied: tzdata>=2022.1 in c:\\users\\asus\\anaconda3\\lib\\site-packages (from pandas>=1.2->bokeh) (2023.3)\n",
      "Requirement already satisfied: joblib>=0.11 in c:\\users\\asus\\anaconda3\\lib\\site-packages (from pynndescent>=0.5->umap-learn) (1.2.0)\n",
      "Requirement already satisfied: threadpoolctl>=2.0.0 in c:\\users\\asus\\anaconda3\\lib\\site-packages (from scikit-learn>=0.22->umap-learn) (2.2.0)\n",
      "Requirement already satisfied: colorama in c:\\users\\asus\\anaconda3\\lib\\site-packages (from tqdm->umap-learn) (0.4.6)\n",
      "Requirement already satisfied: six>=1.5 in c:\\users\\asus\\anaconda3\\lib\\site-packages (from python-dateutil>=2.8.2->pandas>=1.2->bokeh) (1.16.0)\n"
     ]
    }
   ],
   "source": [
    "pip install umap-learn keras bokeh"
   ]
  },
  {
   "cell_type": "code",
   "execution_count": 15,
   "id": "4dd19a24-b325-40ed-ac65-4e75092a6c8f",
   "metadata": {},
   "outputs": [],
   "source": [
    "# Import Necessary Libraries\n",
    "import numpy as np\n",
    "import pandas as pd\n",
    "import os\n",
    "from keras.applications.resnet50 import ResNet50, preprocess_input\n",
    "from keras.preprocessing import image\n",
    "import umap.umap_ as umap\n",
    "from sklearn.cluster import DBSCAN\n",
    "# Import Libraries for Image Clustering\n",
    "import random as rd\n",
    "from bokeh.plotting import figure, show\n",
    "from bokeh.models import HoverTool, ColumnDataSource, ColorBar\n",
    "from bokeh.transform import linear_cmap\n",
    "from bokeh.palettes import all_palettes\n",
    "from bokeh.palettes import inferno"
   ]
  },
  {
   "cell_type": "code",
   "execution_count": 16,
   "id": "4100f4de",
   "metadata": {},
   "outputs": [
    {
     "name": "stdout",
     "output_type": "stream",
     "text": [
      "62/62 [==============================] - 107s 2s/step\n"
     ]
    }
   ],
   "source": [
    "# Load and Preprocess Images\n",
    "def load_and_preprocess_image(image_path, target_size=(224, 224)):\n",
    "    img = image.load_img(image_path, target_size=target_size)\n",
    "    img_array = image.img_to_array(img)\n",
    "    img_array = np.expand_dims(img_array, axis=0)\n",
    "    return preprocess_input(img_array)\n",
    "\n",
    "image_dir = \"movies1\"\n",
    "image_paths = [os.path.join(image_dir, img) for img in os.listdir(image_dir)]\n",
    "images = np.vstack([load_and_preprocess_image(img_path) for img_path in image_paths])\n",
    "\n",
    "# Extract Features using ResNet50\n",
    "model = ResNet50(weights='imagenet', include_top=False, pooling='avg')\n",
    "features = model.predict(images)\n",
    "\n",
    "# Reduce Dimensionality with UMAP\n",
    "n_neighbors = 15\n",
    "min_dist =0.1\n",
    "n_neighbors_value = min(5, len(images) - 1)  # ensure it's less than the number of images\n",
    "reducer = umap.UMAP(n_neighbors=n_neighbors_value, n_components=2, metric='cosine', min_dist=min_dist)\n",
    "reduced_features = reducer.fit_transform(features)"
   ]
  },
  {
   "cell_type": "code",
   "execution_count": 17,
   "id": "98840985-ccf9-419f-9ead-67f41c4acfc2",
   "metadata": {},
   "outputs": [
    {
     "data": {
      "text/plain": [
       "array([[ 7.8462205, -2.0900578],\n",
       "       [ 7.8216906, -2.1121154],\n",
       "       [ 6.1089487, 10.537859 ],\n",
       "       ...,\n",
       "       [ 3.3462803, 16.05402  ],\n",
       "       [ 3.3278825, 16.06726  ],\n",
       "       [ 3.361187 , 16.08593  ]], dtype=float32)"
      ]
     },
     "execution_count": 17,
     "metadata": {},
     "output_type": "execute_result"
    }
   ],
   "source": [
    "reduced_features"
   ]
  },
  {
   "cell_type": "code",
   "execution_count": 18,
   "id": "d03c46db-4181-4555-beb9-8cde3b7ec44f",
   "metadata": {},
   "outputs": [],
   "source": [
    "# Cluster using DBSCAN\n",
    "dbscan = DBSCAN(eps=0.5, min_samples=10, metric='euclidean')\n",
    "clusters = dbscan.fit_predict(reduced_features)\n",
    "n_clusters_ = len(set(clusters)) - (1 if -1 in clusters else 0)"
   ]
  },
  {
   "cell_type": "code",
   "execution_count": 19,
   "id": "b3e8b79c-93f4-44c2-9682-3c5a0d37321a",
   "metadata": {
    "scrolled": true
   },
   "outputs": [
    {
     "data": {
      "text/plain": [
       "80"
      ]
     },
     "execution_count": 19,
     "metadata": {},
     "output_type": "execute_result"
    }
   ],
   "source": [
    "n_clusters_"
   ]
  },
  {
   "cell_type": "code",
   "execution_count": 20,
   "id": "2c88bdab-82bf-4e21-9167-f85d1df73cf8",
   "metadata": {},
   "outputs": [
    {
     "data": {
      "text/plain": [
       "['#10092F',\n",
       " '#AF315B',\n",
       " '#290B54',\n",
       " '#F1EB6C',\n",
       " '#C43C4E',\n",
       " '#A72D5F',\n",
       " '#952666',\n",
       " '#FAFDA0',\n",
       " '#F37719',\n",
       " '#220B4C',\n",
       " '#B23259',\n",
       " '#170B3B',\n",
       " '#F68012',\n",
       " '#B43358',\n",
       " '#C23B4F',\n",
       " '#6D186E',\n",
       " '#2E0A5A',\n",
       " '#FABB21',\n",
       " '#2E0A5A',\n",
       " '#F4F78D',\n",
       " '#D14643',\n",
       " '#F4DB4B',\n",
       " '#370961',\n",
       " '#E55B30',\n",
       " '#02010E',\n",
       " '#932567',\n",
       " '#07051D',\n",
       " '#370961',\n",
       " '#FB9906',\n",
       " '#F5D745',\n",
       " '#FAFDA0',\n",
       " '#06041B',\n",
       " '#70196E',\n",
       " '#040314',\n",
       " '#F2F485',\n",
       " '#9E2963',\n",
       " '#63146E',\n",
       " '#C73E4C',\n",
       " '#5B116E',\n",
       " '#952666',\n",
       " '#992864',\n",
       " '#FBAA0E',\n",
       " '#520E6C',\n",
       " '#C83E4B',\n",
       " '#240B4E',\n",
       " '#A92E5E',\n",
       " '#430A68',\n",
       " '#0D0828',\n",
       " '#68166E',\n",
       " '#290B54',\n",
       " '#9E2963',\n",
       " '#B23259',\n",
       " '#140B36',\n",
       " '#120A32',\n",
       " '#902468',\n",
       " '#F1721D',\n",
       " '#390962',\n",
       " '#5D126E',\n",
       " '#F1721D',\n",
       " '#FA9306',\n",
       " '#D44841',\n",
       " '#2B0A56',\n",
       " '#FBB71C',\n",
       " '#520E6C',\n",
       " '#AC2F5C',\n",
       " '#F9C72F',\n",
       " '#F1721D',\n",
       " '#CB4049',\n",
       " '#CD4247',\n",
       " '#E35832',\n",
       " '#EE6C22',\n",
       " '#BE3852',\n",
       " '#F5F891',\n",
       " '#FBAA0E',\n",
       " '#FB9E07',\n",
       " '#F2E45D',\n",
       " '#EE6C22',\n",
       " '#F57C15',\n",
       " '#A92E5E',\n",
       " '#F9C52C',\n",
       " '#3E0966']"
      ]
     },
     "execution_count": 20,
     "metadata": {},
     "output_type": "execute_result"
    }
   ],
   "source": [
    "color_map = rd.choices(inferno(256), k=n_clusters_+1)\n",
    "color_map"
   ]
  },
  {
   "cell_type": "code",
   "execution_count": 21,
   "id": "f5fb214f-2e7d-489f-bd85-ecbc4ebef100",
   "metadata": {},
   "outputs": [
    {
     "data": {
      "text/plain": [
       "array([ 0,  0,  1, ..., 79, 79, 79], dtype=int64)"
      ]
     },
     "execution_count": 21,
     "metadata": {},
     "output_type": "execute_result"
    }
   ],
   "source": [
    "clusters"
   ]
  },
  {
   "cell_type": "code",
   "execution_count": 22,
   "id": "26ddf806-68a7-45c2-b03e-c56a13375ae4",
   "metadata": {},
   "outputs": [
    {
     "data": {
      "text/html": [
       "<div>\n",
       "<style scoped>\n",
       "    .dataframe tbody tr th:only-of-type {\n",
       "        vertical-align: middle;\n",
       "    }\n",
       "\n",
       "    .dataframe tbody tr th {\n",
       "        vertical-align: top;\n",
       "    }\n",
       "\n",
       "    .dataframe thead th {\n",
       "        text-align: right;\n",
       "    }\n",
       "</style>\n",
       "<table border=\"1\" class=\"dataframe\">\n",
       "  <thead>\n",
       "    <tr style=\"text-align: right;\">\n",
       "      <th></th>\n",
       "      <th>x</th>\n",
       "      <th>y</th>\n",
       "      <th>path</th>\n",
       "      <th>cluster</th>\n",
       "      <th>color</th>\n",
       "    </tr>\n",
       "  </thead>\n",
       "  <tbody>\n",
       "    <tr>\n",
       "      <th>0</th>\n",
       "      <td>7.846220</td>\n",
       "      <td>-2.090058</td>\n",
       "      <td>movies1\\Gran Turismo 1.jpg</td>\n",
       "      <td>0</td>\n",
       "      <td>#10092F</td>\n",
       "    </tr>\n",
       "    <tr>\n",
       "      <th>1</th>\n",
       "      <td>7.821691</td>\n",
       "      <td>-2.112115</td>\n",
       "      <td>movies1\\Gran Turismo 10.png</td>\n",
       "      <td>0</td>\n",
       "      <td>#10092F</td>\n",
       "    </tr>\n",
       "    <tr>\n",
       "      <th>2</th>\n",
       "      <td>6.108949</td>\n",
       "      <td>10.537859</td>\n",
       "      <td>movies1\\Gran Turismo 100.png</td>\n",
       "      <td>1</td>\n",
       "      <td>#AF315B</td>\n",
       "    </tr>\n",
       "    <tr>\n",
       "      <th>3</th>\n",
       "      <td>6.129954</td>\n",
       "      <td>10.559471</td>\n",
       "      <td>movies1\\Gran Turismo 101.png</td>\n",
       "      <td>1</td>\n",
       "      <td>#AF315B</td>\n",
       "    </tr>\n",
       "    <tr>\n",
       "      <th>4</th>\n",
       "      <td>6.091336</td>\n",
       "      <td>10.523120</td>\n",
       "      <td>movies1\\Gran Turismo 102.png</td>\n",
       "      <td>1</td>\n",
       "      <td>#AF315B</td>\n",
       "    </tr>\n",
       "    <tr>\n",
       "      <th>...</th>\n",
       "      <td>...</td>\n",
       "      <td>...</td>\n",
       "      <td>...</td>\n",
       "      <td>...</td>\n",
       "      <td>...</td>\n",
       "    </tr>\n",
       "    <tr>\n",
       "      <th>1949</th>\n",
       "      <td>3.346959</td>\n",
       "      <td>16.049433</td>\n",
       "      <td>movies1\\the_creator_V3_5.png</td>\n",
       "      <td>79</td>\n",
       "      <td>#F9C52C</td>\n",
       "    </tr>\n",
       "    <tr>\n",
       "      <th>1950</th>\n",
       "      <td>3.329957</td>\n",
       "      <td>16.070387</td>\n",
       "      <td>movies1\\the_creator_V3_6.png</td>\n",
       "      <td>79</td>\n",
       "      <td>#F9C52C</td>\n",
       "    </tr>\n",
       "    <tr>\n",
       "      <th>1951</th>\n",
       "      <td>3.346280</td>\n",
       "      <td>16.054020</td>\n",
       "      <td>movies1\\the_creator_V3_7.png</td>\n",
       "      <td>79</td>\n",
       "      <td>#F9C52C</td>\n",
       "    </tr>\n",
       "    <tr>\n",
       "      <th>1952</th>\n",
       "      <td>3.327883</td>\n",
       "      <td>16.067261</td>\n",
       "      <td>movies1\\the_creator_V3_8.png</td>\n",
       "      <td>79</td>\n",
       "      <td>#F9C52C</td>\n",
       "    </tr>\n",
       "    <tr>\n",
       "      <th>1953</th>\n",
       "      <td>3.361187</td>\n",
       "      <td>16.085930</td>\n",
       "      <td>movies1\\the_creator_V3_9.png</td>\n",
       "      <td>79</td>\n",
       "      <td>#F9C52C</td>\n",
       "    </tr>\n",
       "  </tbody>\n",
       "</table>\n",
       "<p>1954 rows × 5 columns</p>\n",
       "</div>"
      ],
      "text/plain": [
       "             x          y                          path  cluster    color\n",
       "0     7.846220  -2.090058    movies1\\Gran Turismo 1.jpg        0  #10092F\n",
       "1     7.821691  -2.112115   movies1\\Gran Turismo 10.png        0  #10092F\n",
       "2     6.108949  10.537859  movies1\\Gran Turismo 100.png        1  #AF315B\n",
       "3     6.129954  10.559471  movies1\\Gran Turismo 101.png        1  #AF315B\n",
       "4     6.091336  10.523120  movies1\\Gran Turismo 102.png        1  #AF315B\n",
       "...        ...        ...                           ...      ...      ...\n",
       "1949  3.346959  16.049433  movies1\\the_creator_V3_5.png       79  #F9C52C\n",
       "1950  3.329957  16.070387  movies1\\the_creator_V3_6.png       79  #F9C52C\n",
       "1951  3.346280  16.054020  movies1\\the_creator_V3_7.png       79  #F9C52C\n",
       "1952  3.327883  16.067261  movies1\\the_creator_V3_8.png       79  #F9C52C\n",
       "1953  3.361187  16.085930  movies1\\the_creator_V3_9.png       79  #F9C52C\n",
       "\n",
       "[1954 rows x 5 columns]"
      ]
     },
     "execution_count": 22,
     "metadata": {},
     "output_type": "execute_result"
    }
   ],
   "source": [
    "df=pd.DataFrame({\n",
    "    'x': reduced_features[:, 0],\n",
    "    'y': reduced_features[:, 1],\n",
    "    'path': image_paths,\n",
    "    'cluster': clusters,\n",
    "    'color': [color_map[i] for i in clusters]\n",
    "})\n",
    "df"
   ]
  },
  {
   "cell_type": "code",
   "execution_count": 23,
   "id": "a53c4f9f-e936-4f2d-a5e9-fcdebd30aefd",
   "metadata": {},
   "outputs": [],
   "source": [
    "source = ColumnDataSource(data=df)\n",
    "hover = HoverTool(tooltips=[\n",
    "    (\"index\", \"$index\"),\n",
    "    (\"(x,y)\", \"(@x, @y)\"),\n",
    "    ('path', '@path'),\n",
    "    ('cluster', '@cluster')\n",
    "])\n",
    "\n",
    "plot = figure(width=600, height=600, tools=[hover], title=\"Movies Poster Clusters with Bokeh\")\n",
    "\n",
    "plot.circle('x', 'y', size=10, source=source, fill_color={\"field\":\"color\"})\n",
    "show(plot)"
   ]
  },
  {
   "cell_type": "code",
   "execution_count": 24,
   "id": "8375815b",
   "metadata": {
    "scrolled": true
   },
   "outputs": [
    {
     "name": "stdout",
     "output_type": "stream",
     "text": [
      "Requirement already satisfied: ipywidgets in c:\\users\\asus\\anaconda3\\lib\\site-packages (8.0.4)\n",
      "Requirement already satisfied: matplotlib in c:\\users\\asus\\anaconda3\\lib\\site-packages (3.7.2)\n",
      "Requirement already satisfied: ipykernel>=4.5.1 in c:\\users\\asus\\anaconda3\\lib\\site-packages (from ipywidgets) (6.25.0)\n",
      "Requirement already satisfied: ipython>=6.1.0 in c:\\users\\asus\\anaconda3\\lib\\site-packages (from ipywidgets) (8.12.2)\n",
      "Requirement already satisfied: traitlets>=4.3.1 in c:\\users\\asus\\anaconda3\\lib\\site-packages (from ipywidgets) (5.7.1)\n",
      "Requirement already satisfied: widgetsnbextension~=4.0 in c:\\users\\asus\\anaconda3\\lib\\site-packages (from ipywidgets) (4.0.5)\n",
      "Requirement already satisfied: jupyterlab-widgets~=3.0 in c:\\users\\asus\\anaconda3\\lib\\site-packages (from ipywidgets) (3.0.5)\n",
      "Requirement already satisfied: contourpy>=1.0.1 in c:\\users\\asus\\anaconda3\\lib\\site-packages (from matplotlib) (1.0.5)\n",
      "Requirement already satisfied: cycler>=0.10 in c:\\users\\asus\\anaconda3\\lib\\site-packages (from matplotlib) (0.11.0)\n",
      "Requirement already satisfied: fonttools>=4.22.0 in c:\\users\\asus\\anaconda3\\lib\\site-packages (from matplotlib) (4.25.0)\n",
      "Requirement already satisfied: kiwisolver>=1.0.1 in c:\\users\\asus\\anaconda3\\lib\\site-packages (from matplotlib) (1.4.4)\n",
      "Requirement already satisfied: numpy>=1.20 in c:\\users\\asus\\anaconda3\\lib\\site-packages (from matplotlib) (1.24.3)\n",
      "Requirement already satisfied: packaging>=20.0 in c:\\users\\asus\\anaconda3\\lib\\site-packages (from matplotlib) (23.1)\n",
      "Requirement already satisfied: pillow>=6.2.0 in c:\\users\\asus\\anaconda3\\lib\\site-packages (from matplotlib) (9.4.0)\n",
      "Requirement already satisfied: pyparsing<3.1,>=2.3.1 in c:\\users\\asus\\anaconda3\\lib\\site-packages (from matplotlib) (3.0.9)\n",
      "Requirement already satisfied: python-dateutil>=2.7 in c:\\users\\asus\\anaconda3\\lib\\site-packages (from matplotlib) (2.8.2)\n",
      "Requirement already satisfied: comm>=0.1.1 in c:\\users\\asus\\anaconda3\\lib\\site-packages (from ipykernel>=4.5.1->ipywidgets) (0.1.2)\n",
      "Requirement already satisfied: debugpy>=1.6.5 in c:\\users\\asus\\anaconda3\\lib\\site-packages (from ipykernel>=4.5.1->ipywidgets) (1.6.7)\n",
      "Requirement already satisfied: jupyter-client>=6.1.12 in c:\\users\\asus\\anaconda3\\lib\\site-packages (from ipykernel>=4.5.1->ipywidgets) (7.4.9)\n",
      "Requirement already satisfied: jupyter-core!=5.0.*,>=4.12 in c:\\users\\asus\\anaconda3\\lib\\site-packages (from ipykernel>=4.5.1->ipywidgets) (5.3.0)\n",
      "Requirement already satisfied: matplotlib-inline>=0.1 in c:\\users\\asus\\anaconda3\\lib\\site-packages (from ipykernel>=4.5.1->ipywidgets) (0.1.6)\n",
      "Requirement already satisfied: nest-asyncio in c:\\users\\asus\\anaconda3\\lib\\site-packages (from ipykernel>=4.5.1->ipywidgets) (1.5.6)\n",
      "Requirement already satisfied: psutil in c:\\users\\asus\\anaconda3\\lib\\site-packages (from ipykernel>=4.5.1->ipywidgets) (5.9.0)\n",
      "Requirement already satisfied: pyzmq>=20 in c:\\users\\asus\\anaconda3\\lib\\site-packages (from ipykernel>=4.5.1->ipywidgets) (23.2.0)\n",
      "Requirement already satisfied: tornado>=6.1 in c:\\users\\asus\\anaconda3\\lib\\site-packages (from ipykernel>=4.5.1->ipywidgets) (6.3.2)\n",
      "Requirement already satisfied: backcall in c:\\users\\asus\\anaconda3\\lib\\site-packages (from ipython>=6.1.0->ipywidgets) (0.2.0)\n",
      "Requirement already satisfied: decorator in c:\\users\\asus\\anaconda3\\lib\\site-packages (from ipython>=6.1.0->ipywidgets) (5.1.1)\n",
      "Requirement already satisfied: jedi>=0.16 in c:\\users\\asus\\anaconda3\\lib\\site-packages (from ipython>=6.1.0->ipywidgets) (0.18.1)\n",
      "Requirement already satisfied: pickleshare in c:\\users\\asus\\anaconda3\\lib\\site-packages (from ipython>=6.1.0->ipywidgets) (0.7.5)\n",
      "Requirement already satisfied: prompt-toolkit!=3.0.37,<3.1.0,>=3.0.30 in c:\\users\\asus\\anaconda3\\lib\\site-packages (from ipython>=6.1.0->ipywidgets) (3.0.36)\n",
      "Requirement already satisfied: pygments>=2.4.0 in c:\\users\\asus\\anaconda3\\lib\\site-packages (from ipython>=6.1.0->ipywidgets) (2.15.1)\n",
      "Requirement already satisfied: stack-data in c:\\users\\asus\\anaconda3\\lib\\site-packages (from ipython>=6.1.0->ipywidgets) (0.2.0)\n",
      "Requirement already satisfied: colorama in c:\\users\\asus\\anaconda3\\lib\\site-packages (from ipython>=6.1.0->ipywidgets) (0.4.6)\n",
      "Requirement already satisfied: six>=1.5 in c:\\users\\asus\\anaconda3\\lib\\site-packages (from python-dateutil>=2.7->matplotlib) (1.16.0)\n",
      "Requirement already satisfied: parso<0.9.0,>=0.8.0 in c:\\users\\asus\\anaconda3\\lib\\site-packages (from jedi>=0.16->ipython>=6.1.0->ipywidgets) (0.8.3)\n",
      "Requirement already satisfied: entrypoints in c:\\users\\asus\\anaconda3\\lib\\site-packages (from jupyter-client>=6.1.12->ipykernel>=4.5.1->ipywidgets) (0.4)\n",
      "Requirement already satisfied: platformdirs>=2.5 in c:\\users\\asus\\anaconda3\\lib\\site-packages (from jupyter-core!=5.0.*,>=4.12->ipykernel>=4.5.1->ipywidgets) (3.10.0)\n",
      "Requirement already satisfied: pywin32>=300 in c:\\users\\asus\\anaconda3\\lib\\site-packages (from jupyter-core!=5.0.*,>=4.12->ipykernel>=4.5.1->ipywidgets) (305.1)\n",
      "Requirement already satisfied: wcwidth in c:\\users\\asus\\anaconda3\\lib\\site-packages (from prompt-toolkit!=3.0.37,<3.1.0,>=3.0.30->ipython>=6.1.0->ipywidgets) (0.2.5)\n",
      "Requirement already satisfied: executing in c:\\users\\asus\\anaconda3\\lib\\site-packages (from stack-data->ipython>=6.1.0->ipywidgets) (0.8.3)\n",
      "Requirement already satisfied: asttokens in c:\\users\\asus\\anaconda3\\lib\\site-packages (from stack-data->ipython>=6.1.0->ipywidgets) (2.0.5)\n",
      "Requirement already satisfied: pure-eval in c:\\users\\asus\\anaconda3\\lib\\site-packages (from stack-data->ipython>=6.1.0->ipywidgets) (0.2.2)\n"
     ]
    }
   ],
   "source": [
    "!pip install ipywidgets matplotlib"
   ]
  },
  {
   "cell_type": "code",
   "execution_count": 25,
   "id": "9a82dcbf",
   "metadata": {},
   "outputs": [
    {
     "data": {
      "application/vnd.jupyter.widget-view+json": {
       "model_id": "82639adff80e4568bdf6145510f59074",
       "version_major": 2,
       "version_minor": 0
      },
      "text/plain": [
       "interactive(children=(FloatSlider(value=0.55, description='min_distance', max=1.0, min=0.1), IntSlider(value=5…"
      ]
     },
     "metadata": {},
     "output_type": "display_data"
    },
    {
     "data": {
      "text/plain": [
       "<function __main__.plot_dbscan(min_distance, n_neighbors)>"
      ]
     },
     "execution_count": 25,
     "metadata": {},
     "output_type": "execute_result"
    }
   ],
   "source": [
    "from bokeh.plotting import figure, show, ColumnDataSource\n",
    "from bokeh.models import HoverTool\n",
    "import matplotlib.pyplot as plt\n",
    "from sklearn.cluster import DBSCAN\n",
    "from ipywidgets import interact, fixed\n",
    "\n",
    "# Bokeh plot\n",
    "source = ColumnDataSource(data=df)\n",
    "hover = HoverTool(tooltips=[\n",
    "    (\"index\", \"$index\"),\n",
    "    (\"(x,y)\", \"(@x, @y)\"),\n",
    "    ('path', '@path'),\n",
    "    ('cluster', '@cluster')\n",
    "])\n",
    "\n",
    "\n",
    "# DBSCAN Clustering\n",
    "X = df[['x', 'y']].values  # Use 'x' and 'y' columns from your dataframe\n",
    "\n",
    "def plot_dbscan(min_distance, n_neighbors):\n",
    "    # Perform DBSCAN on the data\n",
    "    db = DBSCAN(eps=min_distance, min_samples=n_neighbors)\n",
    "    db.fit(X)\n",
    "    \n",
    "    # Create a scatter plot\n",
    "    plt.scatter(X[:, 0], X[:, 1], c=db.labels_)\n",
    "    plt.title(\"DBSCAN Clustering Movies Poster\")\n",
    "    plt.show()\n",
    "\n",
    "# Create interactive plot\n",
    "interact(plot_dbscan, min_distance=(0.1, 1.0), n_neighbors=(1, 100))"
   ]
  },
  {
   "cell_type": "code",
   "execution_count": null,
   "id": "648efd29",
   "metadata": {},
   "outputs": [],
   "source": []
  }
 ],
 "metadata": {
  "kernelspec": {
   "display_name": "Python 3 (ipykernel)",
   "language": "python",
   "name": "python3"
  },
  "language_info": {
   "codemirror_mode": {
    "name": "ipython",
    "version": 3
   },
   "file_extension": ".py",
   "mimetype": "text/x-python",
   "name": "python",
   "nbconvert_exporter": "python",
   "pygments_lexer": "ipython3",
   "version": "3.11.4"
  }
 },
 "nbformat": 4,
 "nbformat_minor": 5
}
